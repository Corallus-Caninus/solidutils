{
 "cells": [
  {
   "cell_type": "code",
   "execution_count": 24,
   "metadata": {},
   "outputs": [],
   "source": [
    "from solid import *\n",
    "from solid.utils import *\n",
    "from math import sin, cos, radians, degrees\n",
    "# import ipywidgets as widgets\n",
    "\n",
    "from intake import extrude_intake_manifold\n",
    "import viewscad"
   ]
  },
  {
   "cell_type": "code",
   "execution_count": 25,
   "metadata": {},
   "outputs": [],
   "source": [
    "#############Static Config#############\n",
    "CircleResolution = 100 \n"
   ]
  },
  {
   "cell_type": "code",
   "execution_count": 26,
   "metadata": {},
   "outputs": [],
   "source": [
    "# TODO: verify wallWidth addition to solids works\n",
    "#               (area is no less than intakeRadius throughout the model)\n",
    "#               only pressure lose should be from friction and filtering no venturi effect\n",
    "\n",
    "\n",
    "# DESIGN GOAL:\n",
    "# create an object that will possibly be used for:\n",
    "# 1. design optimization for wetScrubber and/or vortex filterArray\n",
    "# 2. grid array iteration (for instance: iterating for effective paricle diameter in\n",
    "#  sequential-parallel array given a volume/manifold geometry)"
   ]
  },
  {
   "cell_type": "code",
   "execution_count": 27,
   "metadata": {},
   "outputs": [],
   "source": [
    "def cycloneFilter(\n",
    "        intakeSlitHeight,\n",
    "        intakeSlitWidth,\n",
    "        intakeSlitLength,\n",
    "        intakeLeft,\n",
    "        vortexSearcherDepth,\n",
    "        collectorDepth,\n",
    "        cylinderRadius,\n",
    "        cylinderHeight,\n",
    "        wallWidth\n",
    "):\n",
    "    # TODO: pir^2 must be greater than intake cross section where r is cylinderRadius.\n",
    "    # need more safety constraints.\n",
    "    '''\n",
    "    Creates a Cone filter hull\n",
    "    Parameters:\n",
    "        intakeSlitHeight: air intake nozzle height\n",
    "        intakeSlitWidth: air intake nozzle width, should be minimized to particle/blob diameter\n",
    "        intakeSlitLength: length of intake nozzle tube connecting and transforming the intake tube to a slit\n",
    "        intakeLeft: if True, put intake on left side of filter, else place on right. \n",
    "        useful for symmetric arrays in rectangular manifolds.\n",
    "        vortexSearcherDepth: sets depth of vortex (considered only past intakeSlitLength)\n",
    "        collectorDepth: depth of collector cone after cylinder\n",
    "        cylinderRadius: radius of cylinder that makes up the hull\n",
    "        cylinderHeight: height of cylinder that makes up the hull\n",
    "        wallWidth: width of wall for all parts\n",
    "    '''\n",
    "    ############# Build Solids: #############\n",
    "    # WAS: +wallWidth\n",
    "    intakeRadius = sqrt((intakeSlitHeight*intakeSlitWidth)/pi)\n",
    "    \n",
    "    # build each part\n",
    "    mainBodySolid = cylinder(r=(cylinderRadius + wallWidth),\n",
    "                             h=(cylinderHeight+wallWidth), segments=CircleResolution)\n",
    "    collectorConeSolid = cylinder(\n",
    "        r1=(cylinderRadius + wallWidth), r2=(intakeRadius + wallWidth), h=collectorDepth, segments=CircleResolution)\n",
    "    vortexTubeSolid = cylinder(\n",
    "        r=(intakeRadius + wallWidth), h=(vortexSearcherDepth + intakeSlitHeight), segments=CircleResolution)\n",
    "    intakeSolid = extrude_intake_manifold(\n",
    "        # TODO: constants have no place in parametric models\n",
    "        intake_resolution=100,\n",
    "        exhaust_slit=intakeSlitHeight + wallWidth,\n",
    "        exhaust_width=intakeSlitWidth + wallWidth,\n",
    "        exhaust_length=intakeSlitLength)\n",
    "\n",
    "    ############# Open holes inside solids: #############\n",
    "    # becuase we parameterized by radius, wall width can be subtracted directly\n",
    "    mainBody = mainBodySolid - \\\n",
    "        cylinder(r=cylinderRadius, h=cylinderHeight, segments=CircleResolution)\n",
    "    collectorCone = collectorConeSolid - \\\n",
    "        hole()(cylinder(r1=cylinderRadius,\n",
    "                        r2=intakeRadius, h=collectorDepth, segments=CircleResolution))\n",
    "    vortexTube = vortexTubeSolid - \\\n",
    "        hole()(cylinder(r=(intakeRadius),\n",
    "                        h=(vortexSearcherDepth + intakeSlitHeight), segments=CircleResolution))\n",
    "    intake = intakeSolid - hole()(extrude_intake_manifold(\n",
    "        intake_resolution=100,\n",
    "        exhaust_slit=intakeSlitHeight,\n",
    "        exhaust_width=intakeSlitWidth,\n",
    "        exhaust_length=intakeSlitLength))\n",
    "\n",
    "    ############# Assemble filter: #############\n",
    "    # mainBody\n",
    "    # TODO: remove rotates where appropriate\n",
    "    if(intakeLeft is True):\n",
    "        filter = mainBody + \\\n",
    "            rotate([180, 0, 0])(collectorCone) + \\\n",
    "            up(cylinderHeight - (vortexSearcherDepth + intakeSlitHeight-wallWidth))(vortexTube) + \\\n",
    "            left(cylinderRadius - intakeSlitWidth)(up(cylinderHeight - intakeSlitHeight/2 - wallWidth)\n",
    "                                                   (rotate([90, 90, 0])(intake)))\n",
    "    else:\n",
    "        filter = mainBody + \\\n",
    "            rotate([180, 0, 0])(collectorCone) + \\\n",
    "            up(cylinderHeight - (vortexSearcherDepth + intakeSlitHeight-wallWidth))(vortexTube) + \\\n",
    "            right(cylinderRadius - intakeSlitWidth)(up(cylinderHeight - intakeSlitHeight/2 - wallWidth)\n",
    "                                                    (rotate([90, 90, 0])(intake)))\n",
    "\n",
    "    return filter"
   ]
  },
  {
   "cell_type": "code",
   "execution_count": 28,
   "metadata": {},
   "outputs": [],
   "source": [
    "############# Build Filter: #############\n",
    "solution = cycloneFilter(\n",
    "    intakeSlitHeight=10, intakeSlitWidth=2, intakeSlitLength=20,\n",
    "    intakeLeft=True, vortexSearcherDepth=5, collectorDepth=75,\n",
    "    cylinderRadius=10, cylinderHeight=15, wallWidth=0.05)"
   ]
  },
  {
   "cell_type": "code",
   "execution_count": 29,
   "metadata": {},
   "outputs": [],
   "source": [
    "# Optimization Considerations:\n",
    "# minimize: cylinderHeight constrained by intakeSlitLength\n",
    "# minimize: vortexSearcherDepth constrained by cylinderHeight (only increased based on low pressure aerodynamics)\n",
    "# minimize: intakeSlitWidth: by particle diameter\n",
    "# minimize: cylinderRadius for volume, otherwise this would be maximized (design constraint)\n",
    "# minimize: wallWidth wrt pressure and material compressive strength\n",
    "# maximize: intakeSlitLength\n",
    "# maximize: collectorDepth ideally to infinity if pressure is infinity (perfect vacuum)\n",
    "# TODO: consider a higher level, safer parameterization for these considerations:\n",
    "#               remove: cylinderHeight, cylinderRadius by intakeArea, vortexSearcherDepth(after CFD analysis wrt pressure and intake model),\n",
    "#                             |_need to be constrained by pressure models\n",
    "\n",
    "# FUTURE DEVELOPMENT:\n",
    "#   set minimum and maximum values for parameters\n",
    "#  (so they dont create unsustainable models e.g.: intakeSlit>cylinderHeight)\n",
    "#  then run optimization algorithm on it wrt CFD (consider FreeCAD)\n",
    "#  also constrain the parameters to reduce testing (discretize and limit parameter space)"
   ]
  },
  {
   "cell_type": "code",
   "execution_count": 30,
   "metadata": {},
   "outputs": [],
   "source": [
    "#TODO: this is not functioning in current jupyter lab but would like to get working\n",
    "# r = viewscad.Renderer(openscad_exec=\"/usr/bin/openscad\")\n",
    "#TODO: save to file then render to try another angle at render method\n",
    "# r.render(solution)"
   ]
  },
  {
   "cell_type": "code",
   "execution_count": 31,
   "metadata": {},
   "outputs": [
    {
     "data": {
      "text/plain": [
       "True"
      ]
     },
     "execution_count": 31,
     "metadata": {},
     "output_type": "execute_result"
    }
   ],
   "source": [
    "\n",
    "############# Writeout Filter Model #############\n",
    "scad_render_to_file(\n",
    "    solution,\n",
    "    \"cycloneFilter.scad\",\n",
    "    # \"PUT THE PATH TO YOUR OPENSCAD .EXE HERE\",\n",
    "\n",
    "    # REMOVE THIS WHEN COMMITING\n",
    "    #    \"C:/Users/jw.local/AppData/Roaming/Microsoft/Windows/Start Menu/Programs/OpenSCAD.exe\",\n",
    ")"
   ]
  },
  {
   "cell_type": "code",
   "execution_count": null,
   "metadata": {},
   "outputs": [],
   "source": []
  },
  {
   "cell_type": "code",
   "execution_count": null,
   "metadata": {},
   "outputs": [],
   "source": []
  }
 ],
 "metadata": {
  "kernelspec": {
   "display_name": "Python 3",
   "language": "python",
   "name": "python3"
  },
  "language_info": {
   "codemirror_mode": {
    "name": "ipython",
    "version": 3
   },
   "file_extension": ".py",
   "mimetype": "text/x-python",
   "name": "python",
   "nbconvert_exporter": "python",
   "pygments_lexer": "ipython3",
   "version": "3.5.3"
  }
 },
 "nbformat": 4,
 "nbformat_minor": 4
}
